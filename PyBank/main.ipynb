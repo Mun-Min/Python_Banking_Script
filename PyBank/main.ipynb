{
 "cells": [
  {
   "cell_type": "code",
   "execution_count": 1,
   "id": "41f2f1a4-4089-40d5-a110-2bc14aa4193a",
   "metadata": {},
   "outputs": [
    {
     "data": {
      "text/plain": [
       "'\\nPython Banking Script\\n\\nThis script will parse through a CSV file and sum the total\\namount of Profit/Losses and the count of months to calculate \\nthe average of the changes in Profit/Losses over the entire \\nperiod. \\n'"
      ]
     },
     "execution_count": 1,
     "metadata": {},
     "output_type": "execute_result"
    }
   ],
   "source": [
    "\"\"\"\n",
    "Python Banking Script\n",
    "\n",
    "This script will parse through a CSV file and sum the total\n",
    "amount of Profit/Losses and the count of months to calculate \n",
    "the average of the changes in Profit/Losses over the entire \n",
    "period. \n",
    "\"\"\""
   ]
  },
  {
   "cell_type": "code",
   "execution_count": 2,
   "id": "b29360f2-7bb5-4304-a129-9ac7119385da",
   "metadata": {},
   "outputs": [],
   "source": [
    "# import the csv library to read & write to csv files\n",
    "import csv\n",
    "from pathlib import Path "
   ]
  },
  {
   "cell_type": "code",
   "execution_count": 3,
   "id": "fa52e98c-7ecf-44d9-94f2-56a50e28f89c",
   "metadata": {},
   "outputs": [
    {
     "name": "stdout",
     "output_type": "stream",
     "text": [
      "C:\\Users\\minha\\OneDrive\\Documents\\Python_Banking_Script\\PyBank\n"
     ]
    }
   ],
   "source": [
    "# set the file path\n",
    "csv_path = Path(r\"C:\\Users\\minha\\OneDrive\\Documents\\Python_Banking_Script\\PyBank\\Resources\\budget_data.csv\")\n",
    "print(csv_path.cwd()) "
   ]
  },
  {
   "cell_type": "code",
   "execution_count": 4,
   "id": "aedc9735-cb7e-4618-b25a-ea9fb9afeea2",
   "metadata": {},
   "outputs": [],
   "source": [
    "# initialize budget dictionary\n",
    "budget_dict = {} \n",
    "\n",
    "monthly_changes = [] \n",
    "profits = [] \n",
    "date = [] "
   ]
  },
  {
   "cell_type": "code",
   "execution_count": 5,
   "id": "426ef020-a1bc-4f55-9e50-72a31e39e839",
   "metadata": {},
   "outputs": [],
   "source": [
    "# initialize variables \n",
    "profit_loss_total = 0 \n",
    "month_count = 0 \n",
    "average_change = 0 \n",
    "greatest_increase_profits = 0 "
   ]
  },
  {
   "cell_type": "code",
   "execution_count": 6,
   "id": "e586d60d-1f58-4a9e-8398-a17a3915c6ef",
   "metadata": {},
   "outputs": [],
   "source": [
    "# pass in the csv file to the csv.reader() function \n",
    "with open(csv_path, \"r\") as csv_file: \n",
    "    csv_reader = csv.reader(csv_file, delimiter = ',')\n",
    "    \n",
    "    # read the header row \n",
    "    contents = next(csv_reader)\n",
    "    \n",
    "    # read each row of data after the header \n",
    "    for row in csv_reader:\n",
    "        # TEST CODE :: DELETE\n",
    "        # print(row)\n",
    "        \n",
    "        # append the rows to the empty dictionary\n",
    "        budget_dict[row[0]] = (row[1])\n",
    "         \n",
    "        # date.append(row[0])\n",
    "        \n",
    "        # convert strings to ints for numerical calculations \n",
    "        profit_losses = int(row[1]) \n",
    "        \n",
    "        # calculate the net total amount of Profit/Losses over the entire period\n",
    "        profit_loss_total = profit_loss_total  + profit_losses\n",
    "        \n",
    "        \n",
    "        # profits.append(profit_losses) \n",
    "        \n",
    "        \n",
    "        # greatest_increase_profits = max(profits)\n",
    "        \n",
    "        \n",
    "        # increase_date = date[monthly_changes.index(greatest_increase_profits)]\n",
    "            \n",
    "        # calculate the count of months \n",
    "        month_count += 1 \n",
    "            \n",
    "        # find max and min values \n",
    "        max_key = max(budget_dict.keys())\n",
    "        max_val = max(budget_dict.values()) \n",
    "        min_key = min(budget_dict.keys())\n",
    "        min_val = min(budget_dict.values()) \n",
    "            \n",
    "    # calculate the average change in profit/losses\n",
    "    average_change = round(profit_loss_total / month_count, 2) "
   ]
  },
  {
   "cell_type": "code",
   "execution_count": 7,
   "id": "80e19ec4-c5e7-4915-915f-8ef9a8e16a2c",
   "metadata": {},
   "outputs": [],
   "source": [
    "# set output file name \n",
    "output_file = open(\"py_output_file.txt\", \"w\") \n",
    "\n",
    "# write to the output file \n",
    "output_file.write(f\"Month Count: {month_count}\\n\") \n",
    "output_file.write(f\"Profit/Losses: ${profit_loss_total:,}\\n\") \n",
    "output_file.write(f\"Average Change: ${average_change:,}\\n\") \n",
    "output_file.write(f\"Greatest Increase in Profits: {max_key}, {max_val}\\n\") \n",
    "output_file.write(f\"Greatest Decrease in Profits: {min_key}, {min_val}\") \n",
    "\n",
    "# close output file \n",
    "output_file.close() "
   ]
  },
  {
   "cell_type": "code",
   "execution_count": 8,
   "id": "d2388b96-3818-481e-ad9e-22faf713817a",
   "metadata": {},
   "outputs": [
    {
     "name": "stdout",
     "output_type": "stream",
     "text": [
      "Month Count: 86\n",
      "Profit/Losses: $38,382,578\n",
      "Average Change: $446,309.05\n",
      "Greatest Increase in Profits: Sep-2016, 999942\n",
      "Greatest Decrease in Profits: Apr-2010, -1022534\n"
     ]
    }
   ],
   "source": [
    "    # TEST CODE :: DELETE \n",
    "    print(f\"Month Count: {month_count}\")     \n",
    "    print(f\"Profit/Losses: ${profit_loss_total:,}\") \n",
    "    print(f\"Average Change: ${average_change:,}\") \n",
    "    \n",
    "    print(f\"Greatest Increase in Profits: {max_key}, {max_val}\")\n",
    "    print(f\"Greatest Decrease in Profits: {min_key}, {min_val}\")\n",
    "\n",
    "    # print(f\"Greatest Increase in Profits: {str(increase_date)} , ${str(greatest_increase_profits)}\") "
   ]
  }
 ],
 "metadata": {
  "kernelspec": {
   "display_name": "Python 3 (ipykernel)",
   "language": "python",
   "name": "python3"
  },
  "language_info": {
   "codemirror_mode": {
    "name": "ipython",
    "version": 3
   },
   "file_extension": ".py",
   "mimetype": "text/x-python",
   "name": "python",
   "nbconvert_exporter": "python",
   "pygments_lexer": "ipython3",
   "version": "3.7.13"
  }
 },
 "nbformat": 4,
 "nbformat_minor": 5
}
