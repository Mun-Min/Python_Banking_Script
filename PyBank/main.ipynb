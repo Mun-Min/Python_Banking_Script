{
 "cells": [
  {
   "cell_type": "code",
   "execution_count": null,
   "id": "41f2f1a4-4089-40d5-a110-2bc14aa4193a",
   "metadata": {},
   "outputs": [],
   "source": [
    "\"\"\"\n",
    "Python Banking Script\n",
    "\n",
    "This script will parse through a CSV file and sum the total\n",
    "amount of Profit/Losses and the count of months to calculate \n",
    "the average of the changes in Profit/Losses over the entire \n",
    "period. \n",
    "\"\"\""
   ]
  },
  {
   "cell_type": "code",
   "execution_count": null,
   "id": "b29360f2-7bb5-4304-a129-9ac7119385da",
   "metadata": {},
   "outputs": [],
   "source": [
    "# Import the pathlib library to read & write to files\n",
    "import pathlib "
   ]
  },
  {
   "cell_type": "code",
   "execution_count": null,
   "id": "fa52e98c-7ecf-44d9-94f2-56a50e28f89c",
   "metadata": {},
   "outputs": [],
   "source": [
    "# Set the path using Pathlib\n",
    "path = pathlib.Path(r\"C:\\Users\\minha\\OneDrive\\Documents\\Python_Banking_Script\\PyBank\\Resources\\budget_data.csv\") \n",
    "\n",
    "# TEST CODE:: Check the current directory where the Python program is executing from\n",
    "print(path.cwd())"
   ]
  },
  {
   "cell_type": "code",
   "execution_count": null,
   "id": "426ef020-a1bc-4f55-9e50-72a31e39e839",
   "metadata": {},
   "outputs": [],
   "source": [
    "# Initialize variables \n",
    "profit_loss_total = 0 \n",
    "month_count = 0 "
   ]
  },
  {
   "cell_type": "code",
   "execution_count": null,
   "id": "aedc9735-cb7e-4618-b25a-ea9fb9afeea2",
   "metadata": {},
   "outputs": [],
   "source": []
  }
 ],
 "metadata": {
  "kernelspec": {
   "display_name": "Python 3 (ipykernel)",
   "language": "python",
   "name": "python3"
  },
  "language_info": {
   "codemirror_mode": {
    "name": "ipython",
    "version": 3
   },
   "file_extension": ".py",
   "mimetype": "text/x-python",
   "name": "python",
   "nbconvert_exporter": "python",
   "pygments_lexer": "ipython3",
   "version": "3.7.13"
  }
 },
 "nbformat": 4,
 "nbformat_minor": 5
}
