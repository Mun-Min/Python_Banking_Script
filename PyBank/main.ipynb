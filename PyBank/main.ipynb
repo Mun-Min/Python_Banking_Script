{
 "cells": [
  {
   "cell_type": "code",
   "execution_count": null,
   "id": "41f2f1a4-4089-40d5-a110-2bc14aa4193a",
   "metadata": {},
   "outputs": [],
   "source": [
    "\"\"\"\n",
    "Python Banking Script\n",
    "\n",
    "This script will parse through a CSV file and sum the total\n",
    "amount of Profit/Losses and the count of months to calculate \n",
    "the average of the changes in Profit/Losses over the entire \n",
    "period. \n",
    "\"\"\""
   ]
  },
  {
   "cell_type": "code",
   "execution_count": null,
   "id": "b29360f2-7bb5-4304-a129-9ac7119385da",
   "metadata": {},
   "outputs": [],
   "source": [
    "# import the csv library to read & write to csv files\n",
    "import csv\n",
    "from pathlib import Path "
   ]
  },
  {
   "cell_type": "code",
   "execution_count": null,
   "id": "fa52e98c-7ecf-44d9-94f2-56a50e28f89c",
   "metadata": {},
   "outputs": [],
   "source": [
    "# set the file path\n",
    "csv_path = Path(r\"C:\\Users\\minha\\OneDrive\\Documents\\Python_Banking_Script\\PyBank\\Resources\\budget_data.csv\")\n",
    "print(csv_path.cwd()) "
   ]
  },
  {
   "cell_type": "code",
   "execution_count": null,
   "id": "aedc9735-cb7e-4618-b25a-ea9fb9afeea2",
   "metadata": {},
   "outputs": [],
   "source": [
    "# initialize empty lists\n",
    "profits = [] \n",
    "date = [] \n",
    "monthly_change_list = []"
   ]
  },
  {
   "cell_type": "code",
   "execution_count": null,
   "id": "426ef020-a1bc-4f55-9e50-72a31e39e839",
   "metadata": {},
   "outputs": [],
   "source": [
    "# initialize variables \n",
    "profit_loss_total = 0 \n",
    "average_change = 0 \n",
    "monthly_change_profits = 0\n",
    "month_count = 0 \n",
    "greatest_increase_profits = 0 \n",
    "greatest_decrease_profits = 0 \n",
    "previous_amount = 0\n",
    "initial_month_profit = 0 \n",
    "previous_month_profit = 0"
   ]
  },
  {
   "cell_type": "code",
   "execution_count": null,
   "id": "e586d60d-1f58-4a9e-8398-a17a3915c6ef",
   "metadata": {},
   "outputs": [],
   "source": [
    "# pass in the csv file to the csv.reader() function \n",
    "with open(csv_path, \"r\") as csv_file: \n",
    "    csv_reader = csv.reader(csv_file, delimiter = ',')\n",
    "    \n",
    "    # read the header row \n",
    "    contents = next(csv_reader)\n",
    "    \n",
    "    # read each row of data after the header \n",
    "    for row in csv_reader:\n",
    "        \n",
    "        # convert strings to ints for numerical calculations \n",
    "        profit_losses = int(row[1]) \n",
    "        \n",
    "        # append dates to a new list to use for individual calculations\n",
    "        date.append(row[0])\n",
    "        \n",
    "        # append profit/losses to a new list to use for individual calculations \n",
    "        profits.append(profit_losses) \n",
    "        \n",
    "        # calculate the changes in monthly profit \n",
    "        initial_month_profit = profit_losses \n",
    "        monthly_change_profits = initial_month_profit - previous_month_profit\n",
    "        \n",
    "        # append monthly changes to empty list \n",
    "        monthly_change_list.append(monthly_change_profits) \n",
    "        \n",
    "        # update previous profit value \n",
    "        previous_month_profit =  initial_month_profit \n",
    "        \n",
    "        # calculate the count of months \n",
    "        month_count += 1 \n",
    "    \n",
    "        # calculate the net total amount of Profit/Losses over the entire period\n",
    "        profit_loss_total = profit_loss_total  + profit_losses\n",
    "        \n",
    "        # calculate the min & max values \n",
    "        max_profit = max(profits)\n",
    "        min_profit = min(profits)"
   ]
  },
  {
   "cell_type": "code",
   "execution_count": null,
   "id": "8eb471fd-9385-4673-9384-59e174cfb54a",
   "metadata": {},
   "outputs": [],
   "source": [
    "    # calculate the average change in profit/losses\n",
    "    average_change = round(sum(monthly_change_list[1:]) / len(monthly_change_list[1:]), 2) \n",
    "\n",
    "    # find the corresponding greatest increase/decrease profits date\n",
    "    increase_date = date[profits.index(max_profit)]\n",
    "    decrease_date = date[profits.index(min_profit)]\n",
    "    \n",
    "    # calculate the greatest increase/decrease in profits \n",
    "    previous_amount = profits[(profits.index(max_profit)) - 1] \n",
    "    greatest_increase_profits = max_profit - previous_amount \n",
    "    \n",
    "    previous_amount = profits[(profits.index(min_profit)) - 1] \n",
    "    greatest_decrease_profits = min_profit - previous_amount "
   ]
  },
  {
   "cell_type": "code",
   "execution_count": null,
   "id": "80e19ec4-c5e7-4915-915f-8ef9a8e16a2c",
   "metadata": {},
   "outputs": [],
   "source": [
    "# write to the output file \n",
    "with open(\"py_output_file.txt\", \"w\") as output_file: \n",
    "    output_file.write(f\"Month Count: {month_count}\\n\") \n",
    "    output_file.write(f\"Profit/Losses: ${profit_loss_total:,}\\n\") \n",
    "    output_file.write(f\"Average Change: ${average_change:,}\\n\") \n",
    "    output_file.write(f\"Greatest Increase in Profits: {str(increase_date)} , ${greatest_increase_profits:,}\\n\") \n",
    "    output_file.write(f\"Greatest Decrease in Profits: {str(decrease_date)} , ${greatest_decrease_profits:,}\") "
   ]
  }
 ],
 "metadata": {
  "kernelspec": {
   "display_name": "Python 3 (ipykernel)",
   "language": "python",
   "name": "python3"
  },
  "language_info": {
   "codemirror_mode": {
    "name": "ipython",
    "version": 3
   },
   "file_extension": ".py",
   "mimetype": "text/x-python",
   "name": "python",
   "nbconvert_exporter": "python",
   "pygments_lexer": "ipython3",
   "version": "3.7.13"
  }
 },
 "nbformat": 4,
 "nbformat_minor": 5
}
