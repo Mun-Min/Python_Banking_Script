{
 "cells": [
  {
   "cell_type": "code",
   "execution_count": null,
   "id": "41f2f1a4-4089-40d5-a110-2bc14aa4193a",
   "metadata": {},
   "outputs": [],
   "source": [
    "\"\"\"\n",
    "Python Banking Script\n",
    "\n",
    "This script will parse through a CSV file and sum the total\n",
    "amount of Profit/Losses and the count of months to calculate \n",
    "the average of the changes in Profit/Losses over the entire \n",
    "period. \n",
    "\"\"\""
   ]
  },
  {
   "cell_type": "code",
   "execution_count": null,
   "id": "b29360f2-7bb5-4304-a129-9ac7119385da",
   "metadata": {},
   "outputs": [],
   "source": [
    "# import the csv library to read & write to csv files\n",
    "import csv\n",
    "from pathlib import Path "
   ]
  },
  {
   "cell_type": "code",
   "execution_count": null,
   "id": "fa52e98c-7ecf-44d9-94f2-56a50e28f89c",
   "metadata": {},
   "outputs": [],
   "source": [
    "# set the file path\n",
    "csv_path = Path(r\"C:\\Users\\minha\\OneDrive\\Documents\\Python_Banking_Script\\PyBank\\Resources\\budget_data.csv\")\n",
    "print(csv_path.cwd()) "
   ]
  },
  {
   "cell_type": "code",
   "execution_count": null,
   "id": "aedc9735-cb7e-4618-b25a-ea9fb9afeea2",
   "metadata": {},
   "outputs": [],
   "source": [
    "# initialize budget list\n",
    "budget_list = []"
   ]
  },
  {
   "cell_type": "code",
   "execution_count": null,
   "id": "426ef020-a1bc-4f55-9e50-72a31e39e839",
   "metadata": {},
   "outputs": [],
   "source": [
    "# initialize variables \n",
    "profit_loss_total = 0 \n",
    "month_count = 0 \n",
    "average_change = 0 "
   ]
  },
  {
   "cell_type": "code",
   "execution_count": null,
   "id": "e586d60d-1f58-4a9e-8398-a17a3915c6ef",
   "metadata": {},
   "outputs": [],
   "source": [
    "# pass in the csv file to the csv.reader() function \n",
    "with open(csv_path, \"r\") as csv_file: \n",
    "    csv_reader = csv.reader(csv_file, delimiter = ',')\n",
    "    \n",
    "    # read the header row \n",
    "    contents = next(csv_reader)\n",
    "    \n",
    "    # read each row of data after the header \n",
    "    for row in csv_reader:\n",
    "        # TEST CODE :: DELETE\n",
    "        # print(row)\n",
    "        \n",
    "        # convert strings to ints for numerical calculations \n",
    "        profit_losses = int(row[1]) \n",
    "        \n",
    "        # calculate the net total amount of Profit/Losses over the entire period\n",
    "        profit_loss_total = profit_loss_total  + profit_losses\n",
    "        \n",
    "        # append the rows to the empty list \n",
    "        budget_list.append(row)\n",
    "        month_count += 1\n",
    "        \n",
    "    # calculate the average change in profit/losses\n",
    "    average_change = round(profit_loss_total / month_count, 2) \n",
    "    \n",
    "    # find the maximum and minimum values in the data \n",
    "    greatest_increase_profits = max(budget_list) \n",
    "    greatest_decrease_profits = min(budget_list)     "
   ]
  },
  {
   "cell_type": "code",
   "execution_count": null,
   "id": "d2388b96-3818-481e-ad9e-22faf713817a",
   "metadata": {},
   "outputs": [],
   "source": [
    "    # TEST CODE :: DELETE \n",
    "    print(f\"Month Count: {month_count}\")     \n",
    "    print(f\"Profit/Losses: ${profit_loss_total:,}\") \n",
    "    print(f\"Average Change: ${average_change:,}\") \n",
    "    \n",
    "    print(f\"Greatest Increase in Profits: {greatest_increase_profits}\")\n",
    "    print(f\"Greatest Decrease in Profits: {greatest_decrease_profits}\")"
   ]
  }
 ],
 "metadata": {
  "kernelspec": {
   "display_name": "Python 3 (ipykernel)",
   "language": "python",
   "name": "python3"
  },
  "language_info": {
   "codemirror_mode": {
    "name": "ipython",
    "version": 3
   },
   "file_extension": ".py",
   "mimetype": "text/x-python",
   "name": "python",
   "nbconvert_exporter": "python",
   "pygments_lexer": "ipython3",
   "version": "3.7.13"
  }
 },
 "nbformat": 4,
 "nbformat_minor": 5
}
